{
  "nbformat": 4,
  "nbformat_minor": 0,
  "metadata": {
    "colab": {
      "provenance": [],
      "authorship_tag": "ABX9TyOSeRwuXlzD1a6eYC3neSIG",
      "include_colab_link": true
    },
    "kernelspec": {
      "name": "python3",
      "display_name": "Python 3"
    },
    "language_info": {
      "name": "python"
    }
  },
  "cells": [
    {
      "cell_type": "markdown",
      "metadata": {
        "id": "view-in-github",
        "colab_type": "text"
      },
      "source": [
        "<a href=\"https://colab.research.google.com/github/BubuDavid/CodigoFacilito-DataViz/blob/main/1.%20Google%20Colab/Visualizaci%C3%B3n%20de%20Datos%20Notebook.ipynb\" target=\"_parent\"><img src=\"https://colab.research.google.com/assets/colab-badge.svg\" alt=\"Open In Colab\"/></a>"
      ]
    },
    {
      "cell_type": "markdown",
      "source": [
        "# 🎨 Visualización de Datos Básica con Python\n",
        "\n",
        "¡Hola! 👋 Bienvenidas y bienvenidos a esta clase introductoria sobre **visualización de datos**. En esta sesión, exploraremos las visualizaciones más básicas de manera sencilla y comprensible, utilizando nuestro lenguaje favorito... ¡**Python**! 🐍✨\n",
        "\n",
        "## 🧑‍🏫 ¿Qué aprenderás en esta clase?\n",
        "\n",
        "En este **Google Colab**, nos enfocaremos en los siguientes temas fundamentales para la creación de gráficos y visualizaciones:\n",
        "\n",
        "### 1. 🖌️ **Introducción a Matplotlib**\n",
        "   - Aprenderás a usar la librería más popular de Python para crear gráficos estáticos y personalizarlos a tu gusto. Veremos cómo hacer gráficos de líneas, barras y dispersión, entre otros.\n",
        "\n",
        "### 2. 🔍 **Cosas más complejas con Matplotlib**\n",
        "   - Daremos un paso más allá y exploraremos funciones avanzadas de Matplotlib, como subplots, leyendas personalizadas y anotaciones en gráficos.\n",
        "\n",
        "### 3. 🌟 **Plotly: Interactividad y más**\n",
        "   - Terminaremos con **Plotly**, una poderosa librería que te permitirá crear gráficos interactivos y dinámicos. Ideal para presentaciones o análisis en tiempo real 🚀."
      ],
      "metadata": {
        "id": "HHESlV7yNkD3"
      }
    },
    {
      "cell_type": "markdown",
      "source": [
        "# 🖌️ Introducción a Matplotlib\n",
        "\n",
        "### 📚 ¿Qué es Matplotlib?\n",
        "\n",
        "**Matplotlib** es una librería de Python para la creación de gráficos estáticos, animados e interactivos. Es una de las herramientas más populares en la comunidad de ciencia de datos y análisis, ya que permite generar gráficos de alta calidad de forma flexible y fácil de usar.\n",
        "\n",
        "Con Matplotlib, puedes crear desde gráficos simples hasta visualizaciones complejas con personalizaciones avanzadas.\n",
        "\n",
        "### ⚙️ **Instalación y configuración**\n",
        "\n",
        "Para utilizar Matplotlib, es necesario instalar la librería. Si estás utilizando **Google Colab**, Matplotlib ya viene preinstalado. Si estás trabajando en tu entorno local, puedes instalarlo utilizando el siguiente comando:\n",
        "\n",
        "> `pip install matplotlib`\n",
        "\n",
        "o directamente desde una **Jupyter Notebook**:\n",
        "\n",
        "> `!pip install matplotlib`\n",
        "\n",
        "Una vez que lo tienes instalado, podemos empezar a usarlo. La convención general para importar la librería es:\n",
        "\n",
        "> `import matplotlib.pyplot as plt`\n",
        "\n",
        "🖐️ ¿Alguien puede decirme qué dice ahí arriba?\n",
        "\n",
        "---"
      ],
      "metadata": {
        "id": "8hPy6h67ROX4"
      }
    },
    {
      "cell_type": "code",
      "source": [
        "import matplotlib.pyplot as plt # 👈 Importando nuestra librería de visualización.\n",
        "import pandas as pd # 👈 Importando nuestra librería favorita para datos estructurados.\n",
        "import numpy as np # 👈 Importando numpy para algunas transformaciones específicas\n",
        "import requests as req # 👈 Importando librería para obtener datos fácil y sencillo."
      ],
      "metadata": {
        "id": "WXwapQJiS2xc"
      },
      "execution_count": null,
      "outputs": []
    },
    {
      "cell_type": "markdown",
      "source": [
        "---\n",
        "## 📃 **Obtengamos los datos**\n",
        "\n",
        "Antes de empezar a crear nuestras visualizaciones, ¡necesitamos datos! Usaremos la vieja confiable, la librería **[requests](https://pypi.org/project/requests/)** para obtener datos de una API o página web. Además, usaremos Pandas 🐼, la librería más famosa de Python junto con Numpy para visualizar en tabla nuestros datos.\n",
        "\n",
        "### 🛠️ **Instalación de `requests` y `pandas`**\n",
        "\n",
        "Si aún no tienes las librería instaladas, puedes agregarlas rápidamente con el siguiente comando en tu terminal o Google Colab:\n",
        "\n",
        "> `pip install requests pandas`\n",
        "\n",
        "o por separado\n",
        "\n",
        "> `pip install requests`\n",
        "\n",
        "> `pip install pandas`\n",
        "\n",
        "### 🎓 **Recuerda: ¡Ya hemos visto esto antes!**\n",
        "\n",
        "Si necesitas un repaso más detallado sobre cómo usar `requests` o cómo extraer datos de diversas fuentes, te recomiendo revisar la **clase número 4** del Bootcamp, donde profundizamos en métodos de extracción de datos. ✨\n",
        "\n",
        "---"
      ],
      "metadata": {
        "id": "JeKYY9Y9TVF_"
      }
    },
    {
      "cell_type": "code",
      "source": [
        "# Consiguiendo los datos con alguna técnica de Extraction\n",
        "url = 'https://gist.githubusercontent.com/netj/8836201/raw/6f9306ad21398ea43cba4f7d537619d0e07d5ae3/iris.csv'\n",
        "res = req.get(url)\n",
        "content = res.content.decode().split()\n",
        "data = []\n",
        "# Transformar JSON a DataFrames\n",
        "column_names = content[0].replace('\"', '').replace('.', '_').split(',')\n",
        "for line in content[1:]:\n",
        "    data.append(line.replace('\"', '').split(','))\n",
        "\n",
        "# Transformar columnas a su tipo correcto\n",
        "df = pd.DataFrame(data, columns = column_names)\n",
        "df['sepal_length'] = df['sepal_length'].astype(np.float64)\n",
        "df['sepal_width'] = df['sepal_width'].astype(np.float64)\n",
        "df['petal_length'] = df['petal_length'].astype(np.float64)\n",
        "df['petal_width'] = df['petal_width'].astype(np.float64)\n",
        "\n",
        "# Ver\n",
        "df.head()"
      ],
      "metadata": {
        "id": "FZWygvx4UrtI"
      },
      "execution_count": null,
      "outputs": []
    },
    {
      "cell_type": "markdown",
      "source": [
        "🖐️ ¿Alguien ve algo raro en ese código?"
      ],
      "metadata": {
        "id": "eZop97G0BDLS"
      }
    },
    {
      "cell_type": "markdown",
      "source": [
        "## ✏️ **Tu primer gráfico: Línea**\n",
        "\n",
        "Hay que familiarizarnos con la API de matplotlib, para generar un gráfico se usa la función plot de la librería que importamos, de esta manera:\n",
        "\n",
        "> `plt.plot()`\n",
        "\n",
        "Dentro de esta función van MUCHOS parámetros, para más información puedes [Leer la documentación oficinal](https://matplotlib.org/stable/api/_as_gen/matplotlib.pyplot.plot.html) 📃. Pero los únicos que son necesarios la mayoría del tiempo son `x` y `y`."
      ],
      "metadata": {
        "id": "EY3XUekcSicy"
      }
    },
    {
      "cell_type": "code",
      "source": [
        "plt.plot() # 👈 Crea un gráfico vacío\n",
        "# 🖐️ ¿Cómo hacemos para  ver algo?"
      ],
      "metadata": {
        "id": "HBzY7UA2Cg0S"
      },
      "execution_count": null,
      "outputs": []
    },
    {
      "cell_type": "markdown",
      "source": [
        "## 📊 **Personalización de gráficos**\n",
        "\n",
        "**Matplotlib** permite personalizar tus gráficos de varias maneras. De nuevo, [te recomiendo que leas la documentación](https://matplotlib.org/stable/api/_as_gen/matplotlib.lines.Line2D.html#matplotlib.lines.Line2D). Veamos cómo cambiar el estilo, colores, y añadir elementos adicionales para mejorar la visualización.\n",
        "\n",
        "#### 🔹 Cambiar el estilo de línea y color:\n",
        "\n",
        "Puedes cambiar el color y el estilo de la línea para hacer que tu gráfico sea más visualmente atractivo. Esto con ayuda de diversos parámetros.\n",
        "\n",
        "- `alpha: str`\n",
        "- `marker: str`\n",
        "- `linestyle: '-', '--', '-.', ':', '', (offset, on-off-seq)`\n",
        "\n",
        "#### 🔹 Ingresar nombres para los ejes y título.\n",
        "\n",
        "Con algunas propiedades extra de `plt` se puede escribir texto sobre la **figura**.\n",
        "> `plt.title()`: Para asignarle título\n",
        "\n",
        "> `plt.xlabel()`: Para asignar nombre al eje de las Xs.\n",
        "\n",
        "> `plt.ylabel()`: Para asignar nombre al eje de las Ys.\n",
        "\n",
        "> `plt.show()`: Este es algo especial.\n"
      ],
      "metadata": {
        "id": "_fCE4Ab1CkXI"
      }
    },
    {
      "cell_type": "code",
      "source": [
        "x, y = df['sepal_length'], df['sepal_width']\n",
        "plt.plot(x, y, alpha = 0.7, marker = 's', linestyle = '--') # Comenta una propiedad para que veas los resultados diferentes\n",
        "plt.title('Este es mi título')\n",
        "plt.xlabel('Estas son las Xs')\n",
        "plt.ylabel('Estas son las Ys')\n",
        "plt.show() # 🖐️ ¿Alguien sabe qué es esto?"
      ],
      "metadata": {
        "id": "l1cNT-2viWOO"
      },
      "execution_count": null,
      "outputs": []
    },
    {
      "cell_type": "markdown",
      "source": [
        "## 📏 **Añadiendo una cuadrícula**\n",
        "\n",
        "Las cuadrículas pueden ser útiles para mejorar la legibilidad de los gráficos. Puedes añadirlas fácilmente con `plt.grid()`.\n",
        "\n"
      ],
      "metadata": {
        "id": "6fnvkt4GiTtw"
      }
    },
    {
      "cell_type": "code",
      "source": [
        "plt.plot(x, y, color='green', alpha=0.5, marker='s')\n",
        "plt.xlabel('Largo del Sépalo')\n",
        "plt.ylabel('Ancho del Sépalo')\n",
        "plt.title('Gráfico con Cuadrícula')\n",
        "plt.grid(True)  # Activa la cuadrícula, es lo mismo que plt.grid()\n",
        "plt.show()"
      ],
      "metadata": {
        "id": "8q1CGXxXnanG"
      },
      "execution_count": null,
      "outputs": []
    },
    {
      "cell_type": "markdown",
      "source": [
        "## 🔍 **Tipos de gráficos básicos con Matplotlib**\n",
        "\n",
        "Para nuestro caso de uso, tal vez un gráfico de líneas no sea lo que necesariamente queremos, así que exploremos otros tipos de gráficos.\n",
        "\n",
        "En general, puedes llamar cualquier tipo de gráfico desde la librería de matplotlib, solo haciendo `plt.tipo_grafico()`. Donde `tipo_grafico` es el gráfico soortado por matplotlib.\n"
      ],
      "metadata": {
        "id": "KfIOruuvndB9"
      }
    },
    {
      "cell_type": "markdown",
      "source": [
        "#### 🔹 **Gráfico de barras:**\n",
        "\n",
        "Un Gráfico de Barras utiliza barras horizontales o verticales (gráfico de columnas) para mostrar comparaciones numéricas discretas entre categorías. Un eje del gráfico muestra las categorías específicas que se comparan, mientras que el otro eje representa una escala de valores discretos.\n",
        "\n",
        "Los Gráficos de Barras se distinguen de los Histogramas 📈 ya que no muestran desarrollos continuos a lo largo de un intervalo. En su lugar, los datos discretos de un Gráfico de Barras son categóricos, y responden a la pregunta: \"¿Cuántos?\" en cada categoría."
      ],
      "metadata": {
        "id": "sWTuKxfTpcFT"
      }
    },
    {
      "cell_type": "code",
      "source": [
        "categorias = df['variety'].unique() # Obtenemos categorias\n",
        "valores = df['variety'].value_counts() # Obtenemos los valores\n",
        "\n",
        "plt.bar(categorias, valores, )\n",
        "plt.xlabel('Categoría')\n",
        "plt.ylabel('Cantidad')\n",
        "plt.title('Gráfico de Barras')\n",
        "plt.show()"
      ],
      "metadata": {
        "id": "irIyfeJdn7pf"
      },
      "execution_count": null,
      "outputs": []
    },
    {
      "cell_type": "markdown",
      "source": [
        "#### 🔹 **Gráfico de dispersión:**\n",
        "\n",
        "Un **Gráfico de Dispersión** coloca puntos en un sistema de coordenadas cartesianas para mostrar todos los valores entre dos variables. 📊 Al tener un eje para cada variable, puedes detectar fácilmente si existe una **relación o correlación** entre ellas.\n",
        "\n",
        "El tipo de correlación se interpreta a partir de los patrones que revela el Gráfico de Dispersión. Estos pueden ser:\n",
        "- **Positiva**: 📈 Ambos valores aumentan juntos.\n",
        "- **Negativa**: 📉 Un valor disminuye mientras el otro aumenta.\n",
        "- **Nula**: ❌ No existe correlación.\n",
        "\n",
        "La forma de la correlación puede describirse como:\n",
        "- **Lineal** ➡️\n",
        "- **Exponencial** 📐\n",
        "- **En forma de U** ⬆️⬇️\n",
        "\n",
        "La **fuerza de la correlación** se determina por qué tan agrupados están los puntos. Los puntos que se encuentran fuera del grupo general se llaman **valores atípicos**.\n",
        "\n",
        "Para ayudar en el análisis, se pueden agregar líneas o curvas. Esto se conoce como la **Línea de Mejor Ajuste** o **Línea de Tendencia**, que ayuda con la **interpolación** y la creación de estimaciones. La Línea de Mejor Ajuste muestra la dirección aproximada de los datos si todos los puntos se condensaran en una sola línea.\n",
        "\n",
        "Los gráficos de dispersión son ideales cuando tienes **datos numéricos emparejados** y deseas ver si una variable influye en la otra. Sin embargo, recuerda que **correlación no es causalidad** y que otra variable indirecta o no observada puede estar afectando los resultados.\n",
        "\n",
        "[más información aquí.](https://datavizcatalogue.com/methods/scatterplot.html)"
      ],
      "metadata": {
        "id": "hVgLMJz6oIw4"
      }
    },
    {
      "cell_type": "code",
      "source": [
        "plt.scatter(x, y)\n",
        "plt.xlabel('Eje X')\n",
        "plt.ylabel('Eje Y')\n",
        "plt.title('Gráfico de Dispersión')\n",
        "plt.show()"
      ],
      "metadata": {
        "id": "_rvkFdVbpHhy"
      },
      "execution_count": null,
      "outputs": []
    },
    {
      "cell_type": "markdown",
      "source": [
        "####🔹 Gráfico de dispersión con categorías\n",
        "\n",
        "La información arriba no se ve del todo relacionada linealmente, de hecho, se ve como agrupada en ciertas secciones, puede que la data, nos esté diciendo que está combinación de variables, nos muestre un patrón interesante, algo que podemos hacer para comprobar nuestra teoría, es colorear cada una de las categorías por plantitas. Eso se puede hacer con un código bastante sencillo."
      ],
      "metadata": {
        "id": "DKjM1vMfpXe7"
      }
    },
    {
      "cell_type": "code",
      "source": [
        "# Ejemplo\n",
        "## Obtener x y y\n",
        "filtro = df['variety'] == 'Setosa'\n",
        "new_x = df[filtro]['sepal_length']\n",
        "new_y = df[filtro]['sepal_width']\n",
        "## Graficar\n",
        "plt.scatter(new_x, new_y, label = 'Setosa')\n",
        "\n",
        "## TODO -> Completen este gráfico con las demás plantitas\n",
        "\n",
        "plt.legend()\n",
        "plt.show()"
      ],
      "metadata": {
        "id": "pwWFWlz9pvEk"
      },
      "execution_count": null,
      "outputs": []
    },
    {
      "cell_type": "markdown",
      "source": [
        "🖐️ ¡Nota! Observa que estamos haciendo `plt.scatter` varias veces, ¿Por qué se dibuja solo una gráfica?"
      ],
      "metadata": {
        "id": "_KMnnETaIpuL"
      }
    },
    {
      "cell_type": "markdown",
      "source": [
        "#### 🔹 **Gráfico circular (Pie Chart):**\n",
        "\n",
        "Un Gráfico Circular es ampliamente utilizado en presentaciones y oficinas para mostrar proporciones y porcentajes entre categorías, dividiendo un círculo en segmentos proporcionales. Cada arco representa la proporción de una categoría, mientras que el círculo completo representa el total de los datos, igual a 100%.\n",
        "\n",
        "Los gráficos circulares son ideales para dar rápidamente una idea de la distribución proporcional de los datos. Sin embargo, tienen algunas limitaciones:\n",
        "\n",
        "- Capacidad de Datos Limitada: 📉 No se pueden mostrar demasiados valores, ya que a medida que aumenta el número de categorías, el tamaño de cada segmento se reduce, dificultando su interpretación. No son adecuados para conjuntos de datos grandes con muchas categorías.\n",
        "\n",
        "- Uso de Espacio: 🗂️ Ocupan más espacio que otras alternativas, como el Gráfico de Barras Apiladas al 100%, principalmente debido a su tamaño y la necesidad de una leyenda.\n",
        "\n",
        "- Dificultad para Comparar: 🤔 Es difícil hacer comparaciones precisas entre varios gráficos circulares, ya que el ojo humano tiene más dificultades para comparar áreas que longitudes.\n",
        "\n",
        "A pesar de estas desventajas, los gráficos circulares pueden ser muy efectivos para comparar una categoría específica (un segmento) dentro del total de un solo gráfico circular."
      ],
      "metadata": {
        "id": "aXSzNH5cpJsa"
      }
    },
    {
      "cell_type": "code",
      "source": [
        "labels = df['variety'].unique()\n",
        "sizes = df['variety'].value_counts()\n",
        "\n",
        "plt.pie(sizes, labels=labels, autopct='%1.1f%%')\n",
        "plt.title('Popularidad de Lenguajes de Programación')\n",
        "plt.show()"
      ],
      "metadata": {
        "id": "SISyW5virw6s"
      },
      "execution_count": null,
      "outputs": []
    },
    {
      "cell_type": "markdown",
      "source": [
        "# 🤓 Cosas más complejas con Matplotlib\n",
        "\n",
        "Matplotlib no solo es una función que llamas con el nombre adecuado como `plt.plot()`, `plt.scatter()`, `plt.pie()`, en realidad, es una librería completísima repleta de sus propios objetos, conceptos, buenas prácticas, funciones, etc... En esta sección exploraremos un poquito acerca de las 🤓 figuras y los 🐳 axes.\n",
        "\n"
      ],
      "metadata": {
        "id": "qU3jGCuFtr9w"
      }
    },
    {
      "cell_type": "markdown",
      "source": [
        "## Figures y Axes\n",
        "\n",
        "Matplotlib dibuja todo el contenido de los datos en [Figura](https://matplotlib.org/stable/api/_as_gen/matplotlib.figure.Figure.html#matplotlib.figure.Figure)s (Por ejemplo, en ventanas, Jupyter widgets, etc.) y cada figura puede tener uno o más de un [Axe](https://matplotlib.org/stable/api/_as_gen/matplotlib.axes.Axes.html#matplotlib.axes.Axes). Un Eje es el área donde especificas puntos usando coordenadas, normalmente x-y para gráficos 2D, o sistemas de coordenadas como theta-r para gráficos polares o x-y-z para gráficos 3D.\n",
        "\n",
        "Algunas de las formas que tenemos para crear figuras son las siguientes:"
      ],
      "metadata": {
        "id": "mc7MCAoGPf00"
      }
    },
    {
      "cell_type": "code",
      "source": [
        "fig = plt.figure()             # an empty figure with no Axes\n",
        "# fig, ax = plt.subplots()       # a figure with a single Axes\n",
        "# fig, axs = plt.subplots(2, 2)  # a figure with a 2x2 grid of Axes\n",
        "# a figure with one Axes on the left, and two on the right:\n",
        "# fig, axs = plt.subplot_mosaic([['left', 'right_top'],\n",
        "#                                ['left', 'right_bottom']])"
      ],
      "metadata": {
        "id": "jfaeoGtzOhn8"
      },
      "execution_count": null,
      "outputs": []
    },
    {
      "cell_type": "markdown",
      "source": [
        "Todas estas cosas se pueden usar de manera muy interesante, y se puede usar para responder preguntas MUY MUY profundas. Por ejemplo, ¿cuáles variables tienen correlación entre sí para generar estos \"clusters\" entre las flores? 🤔"
      ],
      "metadata": {
        "id": "dkNPWFwYRuu8"
      }
    },
    {
      "cell_type": "code",
      "source": [
        "# Respueta LEELA! Y si te sirve, hazla una por una, sin los for loops\n",
        "N = 4\n",
        "fig, axs = plt.subplots(N, N, figsize = (35, 30))\n",
        "\n",
        "columns = df.columns\n",
        "\n",
        "for i in range(N):\n",
        "    for j in range(N):\n",
        "        col_1, col_2, c = columns[i], columns[j], pd.Categorical(df['variety']).codes\n",
        "        new_x, new_y = df[col_1], df[col_2]\n",
        "        if i != j:\n",
        "            axs[i][j].scatter(new_x, new_y, c = c, cmap = 'viridis')\n",
        "        else:\n",
        "            axs[i][j].hist(df[col_1])\n",
        "        if not j:\n",
        "            axs[i][j].set_ylabel(col_1)\n",
        "        if i == N - 1:\n",
        "            axs[i][j].set_xlabel(col_2)\n",
        "        axs[i][j].set_title(f\"{col_1} vs. {col_2}\")\n",
        "\n",
        "fig.suptitle(\"Variable Comparison\", fontsize=30, y = 1.05)\n",
        "plt.tight_layout()\n",
        "\n",
        "plt.show()"
      ],
      "metadata": {
        "id": "IyopbN8uR9z2"
      },
      "execution_count": null,
      "outputs": []
    },
    {
      "cell_type": "markdown",
      "source": [
        "## Plots en otros sistemas coordenados.\n",
        "\n",
        "En la visualización de datos, no todo se limita a los gráficos tradicionales en coordenadas cartesianas (x-y). Existen otros sistemas de coordenadas que nos permiten visualizar datos de manera más efectiva según la naturaleza de la información. Cada sistema tiene sus ventajas y aplicaciones específicas. A continuación, exploraremos algunos de los sistemas de coordenadas más comunes utilizados en gráficos y sus características clave. 🎨"
      ],
      "metadata": {
        "id": "chV-8u8IFGah"
      }
    },
    {
      "cell_type": "markdown",
      "source": [
        "#### 🌀 **Coordenadas polares**\n",
        "\n",
        "Las **coordenadas polares** son útiles para representar datos que se repiten de manera cíclica o donde los ángulos son importantes, como las fases lunares o las trayectorias circulares. En este sistema, los puntos se ubican con dos valores: el ángulo (**theta**) y la distancia desde un punto central (**r**). Algunos ejemplos comunes incluyen los gráficos de radar o las gráficas circulares que muestran la relación entre variables distribuidas en un ángulo. 🌐\n",
        "\n",
        "Las coordenadas polares son especialmente útiles cuando queremos mostrar patrones cíclicos, distribuciones angulares o cuando el concepto de dirección es central al análisis de los datos.\n",
        "\n",
        "En el ejemplo de abajo, observamos un Radar Chart.\n"
      ],
      "metadata": {
        "id": "68UXX34sc5b7"
      }
    },
    {
      "cell_type": "code",
      "source": [
        "# Vamos a volver a importar algunas cosas e importar cosas importantes\n",
        "import numpy as np\n",
        "import pandas as pd\n",
        "import matplotlib.pyplot as plt\n",
        "from math import pi\n",
        "import seaborn as sns"
      ],
      "metadata": {
        "id": "k2Jzh916cXLh"
      },
      "execution_count": null,
      "outputs": []
    },
    {
      "cell_type": "code",
      "source": [
        "# Obtener la media de cada característica para cada especie\n",
        "df_agrupado = df.groupby('variety').mean()\n",
        "\n",
        "# Función para crear el gráfico de radar para cada especie\n",
        "def crear_grafico_radar(df_agrupado, especie):\n",
        "    # Número de variables que estamos graficando\n",
        "    categorias = list(df_agrupado.columns)\n",
        "    N = len(categorias)\n",
        "\n",
        "    # Ángulo para cada eje en el gráfico\n",
        "    angulos = [n / float(N) * 2 * pi for n in range(N)]\n",
        "    angulos += angulos[:1]  # Completar el ciclo para asegurar que el gráfico esté cerrado\n",
        "\n",
        "    # Inicializar el gráfico de radar\n",
        "    ax = plt.subplot(111, polar=True)\n",
        "\n",
        "    # Graficar una especie\n",
        "    valores = df_agrupado.loc[especie].values.flatten().tolist()\n",
        "    valores += valores[:1]  # Completar el ciclo\n",
        "\n",
        "    # Dibujar el contorno del gráfico de radar\n",
        "    ax.plot(angulos, valores, linewidth=2, linestyle='solid', label=especie)\n",
        "    ax.fill(angulos, valores, alpha=0.4)  # Rellenar el área\n",
        "\n",
        "    # Añadir las etiquetas para cada eje\n",
        "    ax.set_xticks(angulos[:-1])\n",
        "    ax.set_xticklabels(categorias)\n",
        "\n",
        "    # Establecer el rango para cada eje\n",
        "    plt.yticks([1, 2, 3, 4, 5], ['1', '2', '3', '4', '5'], color='grey', size=8)\n",
        "    plt.ylim(0, 8)\n",
        "\n",
        "# Crear el gráfico de radar para cada especie\n",
        "plt.figure(figsize=(8, 8))\n",
        "crear_grafico_radar(df_agrupado, 'Setosa')\n",
        "crear_grafico_radar(df_agrupado, 'Versicolor')\n",
        "crear_grafico_radar(df_agrupado, 'Virginica')\n",
        "\n",
        "# Añadir un título y leyenda\n",
        "plt.title('Gráfico de Radar para Especies de Iris')\n",
        "plt.legend(loc='upper right', bbox_to_anchor=(1.1, 1.1))\n",
        "\n",
        "# Mostrar el gráfico\n",
        "plt.show()"
      ],
      "metadata": {
        "id": "UDO-ox8ntRJo"
      },
      "execution_count": null,
      "outputs": []
    },
    {
      "cell_type": "markdown",
      "source": [
        "#### 🧭 **Coordenadas geográficas**\n",
        "\n",
        "Cuando trabajamos con datos espaciales, las **coordenadas geográficas** son indispensables. En este sistema, los puntos se ubican en función de su latitud y longitud, lo que nos permite visualizar datos en un contexto geográfico. 🗺️\n",
        "\n",
        "Este tipo de gráficos es fundamental para mostrar fenómenos distribuidos en la superficie de la Tierra, como la distribución de la población, datos climáticos o rutas de transporte. Las visualizaciones geográficas nos ayudan a comprender cómo los datos varían según la ubicación y permiten realizar análisis espaciales complejos.\n",
        "\n",
        "Para el ejemplo de abajo necesitamos instalar una librería extra llamabda [basemap](https://matplotlib.org/basemap/stable/index.html):\n",
        "\n",
        "> `pip install basemap`\n"
      ],
      "metadata": {
        "id": "okZ2kAu5X4BX"
      }
    },
    {
      "cell_type": "code",
      "source": [
        "%%capture\n",
        "!pip install basemap"
      ],
      "metadata": {
        "id": "WhOkN2Y0YISB"
      },
      "execution_count": null,
      "outputs": []
    },
    {
      "cell_type": "code",
      "source": [
        "import matplotlib.pyplot as plt\n",
        "from mpl_toolkits.basemap import Basemap\n",
        "\n",
        "# Crear un mapa del mundo\n",
        "plt.figure(figsize=(12, 8))\n",
        "\n",
        "# Inicializar Basemap con la proyección 'mill' (Miller cylindrical projection)\n",
        "m = Basemap(projection='mill', llcrnrlat=-60, urcrnrlat=90, llcrnrlon=-180, urcrnrlon=180, resolution='c')\n",
        "\n",
        "# Rellenar los continentes\n",
        "m.fillcontinents(color='lightgreen', lake_color='lightblue')\n",
        "\n",
        "# Rellenar los océanos\n",
        "m.drawmapboundary(fill_color='lightblue')\n",
        "\n",
        "# Dibujar costas y países\n",
        "m.drawcoastlines()\n",
        "m.drawcountries()\n",
        "\n",
        "# Ejemplo de coordenadas geográficas (latitud, longitud)\n",
        "latitudes = [23.6345, 35.9078, 40.4637]  # México, Corea y España\n",
        "longitudes = [-102.5528, 127.7669, -3.7492]\n",
        "\n",
        "# Convertir latitudes y longitudes en coordenadas x, y del mapa\n",
        "x, y = m(longitudes, latitudes)\n",
        "\n",
        "# Dibujar los puntos en el mapa\n",
        "m.scatter(x, y, marker='o', color='red', zorder=5)\n",
        "\n",
        "# Etiquetas para los puntos\n",
        "for lat, lon, city in zip(latitudes, longitudes, ['México', 'Corea', 'España']):\n",
        "    plt.text(m(lon, lat)[0], m(lon, lat)[1], city, fontsize=12, ha='right', color='blue')\n",
        "\n",
        "# Título del gráfico\n",
        "plt.title(\"Mapa con Coordenadas Geográficas\")\n",
        "plt.show()\n"
      ],
      "metadata": {
        "id": "pgyP1gmJYalb"
      },
      "execution_count": null,
      "outputs": []
    },
    {
      "cell_type": "markdown",
      "source": [
        "#### ⚙️ **Coordenadas tridimensionales**\n",
        "\n",
        "En muchas ocasiones, las relaciones entre variables no pueden representarse fácilmente en dos dimensiones. Aquí es donde las **coordenadas tridimensionales (3D)** entran en juego. En este sistema, un tercer eje (**z**) se añade para representar una variable adicional, permitiendo visualizar datos en un espacio tridimensional. 🚀\n",
        "\n",
        "Las gráficas 3D son útiles en análisis científicos o técnicos, como la visualización de superficies topográficas, simulaciones físicas o representaciones de modelos matemáticos. Sin embargo, debido a su complejidad visual, se debe tener cuidado de no sobrecargar el gráfico, ya que la percepción puede volverse difícil."
      ],
      "metadata": {
        "id": "sPSi9pq3YGAZ"
      }
    },
    {
      "cell_type": "code",
      "source": [
        "# Crear una figura 3D\n",
        "fig = plt.figure(figsize=(10, 7))\n",
        "ax = fig.add_subplot(111, projection='3d')\n",
        "\n",
        "# Definir los datos para los ejes X, Y y Z\n",
        "x = df['sepal_length']\n",
        "y = df['sepal_width']\n",
        "z = df['petal_length']\n",
        "\n",
        "# Convertir las especies en colores\n",
        "species = df['variety']\n",
        "species_colors = {'Setosa': 'r', 'Versicolor': 'g', 'Virginica': 'b'}\n",
        "colors = species.map(species_colors)\n",
        "\n",
        "# Crear un gráfico de dispersión 3D\n",
        "ax.scatter(x, y, z, c=colors, s=60)\n",
        "\n",
        "# Etiquetas de los ejes\n",
        "ax.set_xlabel('Sepal Length')\n",
        "ax.set_ylabel('Sepal Width')\n",
        "ax.set_zlabel('Petal Length')\n",
        "\n",
        "# Título\n",
        "ax.set_title('Gráfico 3D de Iris Dataset')\n",
        "\n",
        "# Mostrar el gráfico\n",
        "plt.show()\n"
      ],
      "metadata": {
        "id": "Vm0X3lk6bXbM"
      },
      "execution_count": null,
      "outputs": []
    },
    {
      "cell_type": "markdown",
      "source": [
        "# 🌟 Plotly: Interactividad y más\n",
        "\n",
        "Plotly es una poderosa biblioteca de visualización de datos que permite la creación de gráficos interactivos y visualizaciones dinámicas directamente en tu navegador. A diferencia de otras bibliotecas como Matplotlib, que se enfocan en gráficos estáticos, Plotly permite interactuar con los gráficos: hacer zoom, desplazarse, seleccionar puntos de datos y más. 📈✨\n",
        "\n",
        "La interactividad de Plotly lo hace ideal para presentaciones, paneles de control y análisis de datos en tiempo real, lo que facilita la interpretación y el análisis de grandes volúmenes de datos de manera visualmente atractiva y comprensible.\n",
        "\n",
        "Para instalar, si es necesario, lo hacemos de la misma manera que siempre:\n",
        "\n",
        "> `pip install plotly`"
      ],
      "metadata": {
        "id": "EgiILb6GccH3"
      }
    },
    {
      "cell_type": "code",
      "source": [
        "import plotly.express as px # Muy similar a matplotlib en este caso usamos el submodulo express"
      ],
      "metadata": {
        "id": "pOY_xr5yethw"
      },
      "execution_count": null,
      "outputs": []
    },
    {
      "cell_type": "code",
      "source": [
        "# Facil y sencillo\n",
        "fig = px.scatter(\n",
        "    x = df['sepal_length'],\n",
        "    y = df['petal_length'],\n",
        "    color = df['variety'],\n",
        "    title='Gráfico de Dispersión con Plotly',\n",
        "    labels={'x': 'Longitud del Sépalo', 'y': 'Longitud del Pétalo'}\n",
        ")\n",
        "fig.show()"
      ],
      "metadata": {
        "id": "3-KW5haZe4a7"
      },
      "execution_count": null,
      "outputs": []
    },
    {
      "cell_type": "code",
      "source": [
        "# Hasta en 3D!!!\n",
        "fig = px.scatter_3d(df, x='sepal_length', y='sepal_width', z='petal_width',\n",
        "              color='petal_length', size='petal_length', size_max=18,\n",
        "              symbol='variety', opacity=0.7)\n",
        "\n",
        "fig.update_layout(margin=dict(l=0, r=0, b=0, t=0))\n",
        "fig.show()"
      ],
      "metadata": {
        "id": "-Oun1zf2gPRT"
      },
      "execution_count": null,
      "outputs": []
    },
    {
      "cell_type": "code",
      "source": [
        "# También hay otros módulos super interesantes como go\n",
        "import plotly.graph_objects as go"
      ],
      "metadata": {
        "id": "qx6XgCWjhlYM"
      },
      "execution_count": null,
      "outputs": []
    },
    {
      "cell_type": "code",
      "source": [
        "# Crear una cuadrícula de datos\n",
        "x = np.linspace(-5, 5, 50)\n",
        "y = np.linspace(-5, 5, 50)\n",
        "x, y = np.meshgrid(x, y)\n",
        "\n",
        "# Definir la función para z\n",
        "z = np.sin(np.sqrt(x**2 + y**2))\n",
        "\n",
        "# Crear el gráfico de superficie en 3D\n",
        "fig = go.Figure(data=[go.Surface(z=z, x=x, y=y, colorscale='Viridis')])\n",
        "\n",
        "# Añadir título y etiquetas\n",
        "fig.update_layout(title='Gráfico de Superficie en 3D', scene=dict(\n",
        "                    xaxis_title='Eje X',\n",
        "                    yaxis_title='Eje Y',\n",
        "                    zaxis_title='Eje Z'))\n",
        "\n",
        "# Mostrar el gráfico\n",
        "fig.show()\n"
      ],
      "metadata": {
        "id": "XG5DSyzNhhpd"
      },
      "execution_count": null,
      "outputs": []
    }
  ]
}